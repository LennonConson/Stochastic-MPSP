{
 "cells": [
  {
   "cell_type": "markdown",
   "metadata": {},
   "source": [
    "Stochastic Military Port Selection Problem\n",
    "=========================================="
   ]
  },
  {
   "cell_type": "code",
   "execution_count": 1,
   "metadata": {},
   "outputs": [],
   "source": [
    "# Title: Stochastic Military Port Selection Problem\n",
    "# Description: This extends the \n",
    "# Author: Lennon Conson"
   ]
  },
  {
   "cell_type": "markdown",
   "metadata": {},
   "source": [
    "Load Data inport Packages\n",
    "-------------------------"
   ]
  },
  {
   "cell_type": "code",
   "execution_count": 2,
   "metadata": {},
   "outputs": [],
   "source": [
    "import csv\n",
    "from datetime import date"
   ]
  },
  {
   "cell_type": "markdown",
   "metadata": {},
   "source": [
    "Load Data\n",
    "---------"
   ]
  },
  {
   "cell_type": "code",
   "execution_count": 3,
   "metadata": {},
   "outputs": [],
   "source": [
    "# Import SPOEs/Transshipment Nodes\n",
    "def transshipment_nodes_import(file_name):\n",
    "    transshipment_nodes = set()\n",
    "    with open(file_name, newline='') as f:\n",
    "        reader = csv.reader(f)\n",
    "        next(reader)\n",
    "        for row in reader:\n",
    "            transshipment_nodes.add(row[0])\n",
    "    return transshipment_nodes\n",
    "\n",
    "transshipment_nodes = transshipment_nodes_import('daily-port-processing-capabilities.csv')\n",
    "\n",
    "# Import shipments\n",
    "def shipments_import(file_name):\n",
    "    shipments = set()\n",
    "    with open(file_name, newline='') as f:\n",
    "        reader = csv.reader(f)\n",
    "        next(reader)\n",
    "        for row in reader:\n",
    "            shipments.add(row[0])\n",
    "    return shipments\n",
    "\n",
    "shipments = shipments_import('packages.csv')\n",
    "\n",
    "# Import ships\n",
    "def ships_import(file_name):\n",
    "    ships = set()\n",
    "    with open(file_name, newline='') as f:\n",
    "        reader = csv.reader(f)\n",
    "        next(reader)\n",
    "        for row in reader:\n",
    "            ships.add(row[0])\n",
    "    return ships\n",
    "\n",
    "ships = ships_import('ships.csv')"
   ]
  },
  {
   "cell_type": "markdown",
   "metadata": {},
   "source": [
    "Initialize Pyomo\n",
    "--------------"
   ]
  },
  {
   "cell_type": "code",
   "execution_count": 4,
   "metadata": {},
   "outputs": [],
   "source": [
    "import pyomo.environ as pyo\n",
    "model = pyo.ConcreteModel()"
   ]
  },
  {
   "cell_type": "markdown",
   "metadata": {},
   "source": [
    "Define Decision Variable\n",
    "------------------------"
   ]
  },
  {
   "cell_type": "code",
   "execution_count": 5,
   "metadata": {},
   "outputs": [],
   "source": [
    "# First Stage\n",
    "# Which SPOEs to open\n",
    "# A binary decision variable resenting if a SPOE (transshipment node) $j \\in J$ opened during the first-stage decision. \n",
    "# A value of 0 represents a closed transshipment node, while a value of 1 represents an open transshipment node.\n",
    "model.x = pyo.Var(transshipment_nodes, within=pyo.Binary)\n",
    "\n",
    "# Second Stage\n",
    "# Inflow\n",
    "# Inflow Time\n",
    "# A continuous non-negative decision variable that indicates at what time a shipment, k ∈ K, departs the origin.\n",
    "model.t_inflow = pyo.Var(shipments, within=pyo.NonNegativeReals)\n",
    "\n",
    "# Inflow Transshipment Node\n",
    "# A categorical decision variable resenting which SPOE a shipment , k ∈ K, will flow through\n",
    "model.y_inflow = pyo.Var(shipments, within=transshipment_nodes)\n",
    "\n",
    "# Inflow Transportation mode\n",
    "# A binary decision variable resenting which mode of travel that shipment , k ∈ K,\n",
    "# is used to reach the SPOE. A 0 represents rail transport, while 1 represents\n",
    "# road transport\n",
    "model.z_inflow = pyo.Var(shipments, within=pyo.Binary)\n",
    "\n",
    "# Outflow\n",
    "# Outflow Time\n",
    "# A continuous non-negative decision variable that indicates at what time a ship, l ∈ L, departs the a SPOE\n",
    "model.t_outflow = pyo.Var(ships, within=pyo.NonNegativeReals)\n",
    "\n",
    "# TODO Maybe unneeded\n",
    "# Outflow Transshipment Node\n",
    "# A categorical decision variable resenting which SPOE a ship, l ∈ L, will travel to.\n",
    "# model.y_outflow = pyo.Var(ships, within=transshipment_nodes)\n",
    "\n",
    "# Outflow Transportation Mode\n",
    "# A categorical decision variable resenting which ship a shipment, k ∈ K, is utilizing\n",
    "# to reach the destination.\n",
    "model.z_outflow = pyo.Var(shipments, within=pyo.Binary)"
   ]
  },
  {
   "cell_type": "markdown",
   "metadata": {},
   "source": [
    "Contraints\n",
    "----------"
   ]
  },
  {
   "cell_type": "code",
   "execution_count": null,
   "metadata": {},
   "outputs": [],
   "source": []
  }
 ],
 "metadata": {
  "kernelspec": {
   "display_name": "Python 3",
   "language": "python",
   "name": "python3"
  },
  "language_info": {
   "codemirror_mode": {
    "name": "ipython",
    "version": 3
   },
   "file_extension": ".py",
   "mimetype": "text/x-python",
   "name": "python",
   "nbconvert_exporter": "python",
   "pygments_lexer": "ipython3",
   "version": "3.12.2"
  }
 },
 "nbformat": 4,
 "nbformat_minor": 2
}
